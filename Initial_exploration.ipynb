{
 "cells": [
  {
   "cell_type": "code",
   "execution_count": 1,
   "metadata": {},
   "outputs": [],
   "source": [
    "import pandas as pd\n"
   ]
  },
  {
   "cell_type": "code",
   "execution_count": null,
   "metadata": {},
   "outputs": [],
   "source": [
    "#import csv\n",
    "citibike=pd.read_csv('newbike/newcity.csv')\n",
    "#isolate the relevant inicies and group by individual bike and sum trip times\n",
    "explore=citibike[['tripduration','bikeid']].groupby(['bikeid']).sum()\n",
    "#get the largest trip time\n",
    "max_time=explore.tripduration.max()\n",
    "#isolate the bike id associated with longest trip time\n",
    "max_=explore.loc[attempt['tripduration']==max_time]\n",
    "#grab the bikeid value\n",
    "max_bike=list(max_.index)\n",
    "#make new df of just that bike\n",
    "max_df=citibike.loc[citibike['bikeid']==max_bike[0]]\n",
    "max_df.to_csv(\"max_bike.csv\")"
   ]
  },
  {
   "cell_type": "code",
   "execution_count": 126,
   "metadata": {},
   "outputs": [],
   "source": [
    "#figure we need the minimum to compare\n",
    "min_time=explore.tripduration.min()\n",
    "min_=explore.loc[attempt['tripduration']==min_time]\n",
    "min_bike=list(min_.index)\n",
    "min_df=citibike.loc[citibike['bikeid']==min_bike[0]]"
   ]
  }
 ],
 "metadata": {
  "kernelspec": {
   "display_name": "Python 3",
   "language": "python",
   "name": "python3"
  },
  "language_info": {
   "codemirror_mode": {
    "name": "ipython",
    "version": 3
   },
   "file_extension": ".py",
   "mimetype": "text/x-python",
   "name": "python",
   "nbconvert_exporter": "python",
   "pygments_lexer": "ipython3",
   "version": "3.6.9"
  }
 },
 "nbformat": 4,
 "nbformat_minor": 2
}
